{
  "nbformat": 4,
  "nbformat_minor": 0,
  "metadata": {
    "colab": {
      "name": "High RAM Renderer (Image).ipynb",
      "provenance": [],
      "collapsed_sections": [],
      "machine_shape": "hm",
      "include_colab_link": true
    },
    "kernelspec": {
      "name": "python3",
      "display_name": "Python 3"
    },
    "accelerator": "GPU"
  },
  "cells": [
    {
      "cell_type": "markdown",
      "metadata": {
        "id": "view-in-github",
        "colab_type": "text"
      },
      "source": [
        "<a href=\"https://colab.research.google.com/github/ESPersonnel/BlenderColabRenderer/blob/main/High_RAM_Renderer_(Image).ipynb\" target=\"_parent\"><img src=\"https://colab.research.google.com/assets/colab-badge.svg\" alt=\"Open In Colab\"/></a>"
      ]
    },
    {
      "cell_type": "markdown",
      "source": [
        "# Colab GPU Rendering for images\n",
        "\n",
        "This code lets you render your blender files on colab using GPU resources provided by Google.\n",
        "It works better if you have a better Graphics Card provided.\n",
        "\n",
        "By using it on my device I got significantly better render times.\n",
        "I have an Integrated GPU Intel HD Graphics 620 and I was allocated the least powerful GPU, the K80 but still got significantly better results."
      ],
      "metadata": {
        "id": "NbfYbcZSfg3f"
      }
    },
    {
      "cell_type": "code",
      "metadata": {
        "id": "3vyj1o2T2fdf"
      },
      "source": [
        "#Not really necessary. Just checking the GPU that gets connected (K80 < T4 < P100 < V100)\n",
        "#V100 is mostly available only to members who have subscription.\n",
        "\n",
        "!nvidia-smi"
      ],
      "execution_count": null,
      "outputs": []
    },
    {
      "cell_type": "code",
      "metadata": {
        "id": "uPBzqkZ4vWF2"
      },
      "source": [
        "#Connecting the Google Drive related to my Google Account which has the Project file.\n",
        "\n",
        "from google.colab import drive\n",
        "drive.mount('/content/drive')"
      ],
      "execution_count": null,
      "outputs": []
    },
    {
      "cell_type": "code",
      "metadata": {
        "id": "eidMfOXMyIpF"
      },
      "source": [
        "#Download Blender from Repository\n",
        "!wget https://download.blender.org/release/Blender3.0/blender-3.0.1-linux-x64.tar.xz\n",
        "\n",
        "#Install Blender \n",
        "!tar xf blender-3.0.1-linux-x64.tar.xz\n",
        "\n",
        "#Download some required libraries (if not already installed)\n",
        "!apt install libboost-all-dev\n",
        "!apt install libgl1-mesa-dev"
      ],
      "execution_count": null,
      "outputs": []
    },
    {
      "cell_type": "code",
      "metadata": {
        "id": "Qt8yCLfoyKzf"
      },
      "source": [
        "blenderFolderLocation = '/content/drive/MyDrive/BlenderRenders/RenderingImage/ProjectFile/'\n",
        "outputFolderLocation = '/content/drive/MyDrive/BlenderRenders/RenderingImage/Image/'\n",
        "enableGPU = '/content/drive/MyDrive/BlenderRenders/Res/GPU.py'\n",
        "\n",
        "#Just creating a variable to hold the location of the Blender file and Output file\n",
        "#The location can also be given in the command that follows instead of creating a variable\n",
        "blenderFileName = input(\"Enter the name of the Blender File (with .blend extension) : \")\n",
        "\n",
        "tempFile = blenderFileName.split('.')\n",
        "outputFileName = tempFile[0]\n",
        "\n",
        "outputFolderName = outputFolderLocation + outputFileName\n",
        "\n",
        "blenderFile = blenderFolderLocation + blenderFileName\n",
        "outputFile = outputFolderName + '/' + outputFileName + \"_\"\n",
        "\n",
        "!mkdir -p $outputFolderName\n",
        "\n",
        "#Run Blender\n",
        "#You can specify the output format you need for your file. OPEN_EXR is recommended for additional composition.\n",
        "!sudo ./blender-3.0.1-linux-x64/blender -b $blenderFile -noaudio -P $enableGPU -o $outputFile  -E 'CYCLES' -f 1 F 'OPEN_EXR'\n",
        "#!sudo ./blender-3.0.1-linux-x64/blender -b $filename -noaudio -- --cycles-device CUDA  -E 'CYCLES' -f 1 -F 'PNG'"
      ],
      "execution_count": null,
      "outputs": []
    }
  ]
}